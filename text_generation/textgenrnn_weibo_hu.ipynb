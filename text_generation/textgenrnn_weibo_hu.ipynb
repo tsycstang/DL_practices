{
  "nbformat": 4,
  "nbformat_minor": 0,
  "metadata": {
    "colab": {
      "name": "textgenrnn_weibo_hu.ipynb",
      "provenance": [],
      "collapsed_sections": [],
      "authorship_tag": "ABX9TyPVpvJwazxtEZOuIFZ4zyPt",
      "include_colab_link": true
    },
    "kernelspec": {
      "name": "python3",
      "display_name": "Python 3"
    },
    "accelerator": "GPU"
  },
  "cells": [
    {
      "cell_type": "markdown",
      "metadata": {
        "id": "view-in-github",
        "colab_type": "text"
      },
      "source": [
        "<a href=\"https://colab.research.google.com/github/tsycstang/DL_practices/blob/master/text_generation/textgenrnn_weibo_hu.ipynb\" target=\"_parent\"><img src=\"https://colab.research.google.com/assets/colab-badge.svg\" alt=\"Open In Colab\"/></a>"
      ]
    },
    {
      "cell_type": "code",
      "metadata": {
        "id": "zSEpQRc5c1GG",
        "colab_type": "code",
        "colab": {}
      },
      "source": [
        "import pandas as pd"
      ],
      "execution_count": 0,
      "outputs": []
    },
    {
      "cell_type": "code",
      "metadata": {
        "id": "-SXwl9h6-tqD",
        "colab_type": "code",
        "colab": {}
      },
      "source": [
        "data_raw = pd.read_csv('/content/1989660417.csv')"
      ],
      "execution_count": 0,
      "outputs": []
    },
    {
      "cell_type": "code",
      "metadata": {
        "id": "yMiT3FMd-1W_",
        "colab_type": "code",
        "outputId": "4bb18c61-7758-4b23-af35-1cf3c1d8ca73",
        "colab": {
          "base_uri": "https://localhost:8080/",
          "height": 71
        }
      },
      "source": [
        "data_raw['正文'].to_csv('weibos.csv', index=0)"
      ],
      "execution_count": 0,
      "outputs": [
        {
          "output_type": "stream",
          "text": [
            "/usr/local/lib/python3.6/dist-packages/ipykernel_launcher.py:1: FutureWarning: The signature of `Series.to_csv` was aligned to that of `DataFrame.to_csv`, and argument 'header' will change its default value from False to True: please pass an explicit value to suppress this warning.\n",
            "  \"\"\"Entry point for launching an IPython kernel.\n"
          ],
          "name": "stderr"
        }
      ]
    },
    {
      "cell_type": "code",
      "metadata": {
        "id": "49lF2gSHAA3l",
        "colab_type": "code",
        "outputId": "4047a585-8b59-49b5-add5-6d648e7e0e61",
        "colab": {
          "base_uri": "https://localhost:8080/",
          "height": 287
        }
      },
      "source": [
        "!pip install textgenrnn\n",
        "from textgenrnn import textgenrnn\n",
        "from datetime import datetime\n",
        "import os"
      ],
      "execution_count": 0,
      "outputs": [
        {
          "output_type": "stream",
          "text": [
            "Requirement already satisfied: textgenrnn in /usr/local/lib/python3.6/dist-packages (1.4.1)\n",
            "Requirement already satisfied: scikit-learn in /usr/local/lib/python3.6/dist-packages (from textgenrnn) (0.22.2.post1)\n",
            "Requirement already satisfied: keras>=2.1.5 in /usr/local/lib/python3.6/dist-packages (from textgenrnn) (2.2.5)\n",
            "Requirement already satisfied: h5py in /usr/local/lib/python3.6/dist-packages (from textgenrnn) (2.8.0)\n",
            "Requirement already satisfied: scipy>=0.17.0 in /usr/local/lib/python3.6/dist-packages (from scikit-learn->textgenrnn) (1.4.1)\n",
            "Requirement already satisfied: joblib>=0.11 in /usr/local/lib/python3.6/dist-packages (from scikit-learn->textgenrnn) (0.14.1)\n",
            "Requirement already satisfied: numpy>=1.11.0 in /usr/local/lib/python3.6/dist-packages (from scikit-learn->textgenrnn) (1.18.1)\n",
            "Requirement already satisfied: six>=1.9.0 in /usr/local/lib/python3.6/dist-packages (from keras>=2.1.5->textgenrnn) (1.12.0)\n",
            "Requirement already satisfied: keras-applications>=1.0.8 in /usr/local/lib/python3.6/dist-packages (from keras>=2.1.5->textgenrnn) (1.0.8)\n",
            "Requirement already satisfied: pyyaml in /usr/local/lib/python3.6/dist-packages (from keras>=2.1.5->textgenrnn) (3.13)\n",
            "Requirement already satisfied: keras-preprocessing>=1.1.0 in /usr/local/lib/python3.6/dist-packages (from keras>=2.1.5->textgenrnn) (1.1.0)\n"
          ],
          "name": "stdout"
        },
        {
          "output_type": "stream",
          "text": [
            "Using TensorFlow backend.\n"
          ],
          "name": "stderr"
        },
        {
          "output_type": "display_data",
          "data": {
            "text/html": [
              "<p style=\"color: red;\">\n",
              "The default version of TensorFlow in Colab will soon switch to TensorFlow 2.x.<br>\n",
              "We recommend you <a href=\"https://www.tensorflow.org/guide/migrate\" target=\"_blank\">upgrade</a> now \n",
              "or ensure your notebook will continue to use TensorFlow 1.x via the <code>%tensorflow_version 1.x</code> magic:\n",
              "<a href=\"https://colab.research.google.com/notebooks/tensorflow_version.ipynb\" target=\"_blank\">more info</a>.</p>\n"
            ],
            "text/plain": [
              "<IPython.core.display.HTML object>"
            ]
          },
          "metadata": {
            "tags": []
          }
        }
      ]
    },
    {
      "cell_type": "code",
      "metadata": {
        "id": "LgVvIk8qAxfP",
        "colab_type": "code",
        "colab": {}
      },
      "source": [
        "model_cfg = {\n",
        "    'word_level': False,   # set to True if want to train a word-level model (requires more data and smaller max_length)\n",
        "    'rnn_size': 128,   # number of LSTM cells of each layer (128/256 recommended)\n",
        "    'rnn_layers': 3,   # number of LSTM layers (>=2 recommended)\n",
        "    'rnn_bidirectional': True,   # consider text both forwards and backward, can give a training boost\n",
        "    'max_length': 30,   # number of tokens to consider before predicting the next (20-40 for characters, 5-10 for words recommended)\n",
        "    'max_words': 10000,   # maximum number of words to model; the rest will be ignored (word-level model only)\n",
        "}\n",
        "\n",
        "train_cfg = {\n",
        "    'line_delimited': True,   # set to True if each text has its own line in the source file\n",
        "    'num_epochs': 30,   # set higher to train the model for longer\n",
        "    'gen_epochs': 5,   # generates sample text from model after given number of epochs\n",
        "    'train_size': 1.0,   # proportion of input data to train on: setting < 1.0 limits model from learning perfectly\n",
        "    'dropout': 0.0,   # ignore a random proportion of source tokens each epoch, allowing model to generalize better\n",
        "    'validation': False,   # If train__size < 1.0, test on holdout dataset; will make overall training slower\n",
        "    'is_csv': True   # set to True if file is a CSV exported from Excel/BigQuery/pandas\n",
        "}"
      ],
      "execution_count": 0,
      "outputs": []
    },
    {
      "cell_type": "code",
      "metadata": {
        "id": "OuiVxqIOBQvt",
        "colab_type": "code",
        "colab": {}
      },
      "source": [
        "file_name = \"weibos.csv\"\n",
        "model_name = 'textgenrnn-weibo-hu'   # change to set file name of resulting trained models/texts"
      ],
      "execution_count": 0,
      "outputs": []
    },
    {
      "cell_type": "code",
      "metadata": {
        "id": "KYjI_BuiBY7r",
        "colab_type": "code",
        "outputId": "745a6b04-17f4-4716-a501-5cc8f45021c8",
        "colab": {
          "base_uri": "https://localhost:8080/",
          "height": 1000
        }
      },
      "source": [
        "#textgen = textgenrnn(name=model_name)\n",
        "\n",
        "#train_function = textgen.train_from_file if train_cfg['line_delimited'] else textgen.train_from_largetext_file\n",
        "\n",
        "train_function(\n",
        "    file_path=file_name,\n",
        "    new_model=False,\n",
        "    num_epochs=train_cfg['num_epochs'],\n",
        "    gen_epochs=train_cfg['gen_epochs'],\n",
        "    batch_size=1024,\n",
        "    train_size=train_cfg['train_size'],\n",
        "    dropout=train_cfg['dropout'],\n",
        "    validation=train_cfg['validation'],\n",
        "    is_csv=train_cfg['is_csv'],\n",
        "    rnn_layers=model_cfg['rnn_layers'],\n",
        "    rnn_size=model_cfg['rnn_size'],\n",
        "    rnn_bidirectional=model_cfg['rnn_bidirectional'],\n",
        "    max_length=model_cfg['max_length'],\n",
        "    dim_embeddings=100,\n",
        "    word_level=model_cfg['word_level'])"
      ],
      "execution_count": 0,
      "outputs": [
        {
          "output_type": "stream",
          "text": [
            "5,154 texts collected.\n",
            "Training on 1,022,304 character sequences.\n",
            "Epoch 1/30\n",
            "998/998 [==============================] - 237s 237ms/step - loss: 2.5210\n",
            "Epoch 2/30\n",
            "998/998 [==============================] - 236s 237ms/step - loss: 2.5229\n",
            "Epoch 3/30\n",
            "998/998 [==============================] - 238s 238ms/step - loss: 2.4811\n",
            "Epoch 4/30\n",
            "998/998 [==============================] - 239s 239ms/step - loss: 2.4330\n",
            "Epoch 5/30\n",
            "998/998 [==============================] - 237s 238ms/step - loss: 2.3828\n",
            "####################\n",
            "Temperature: 0.2\n",
            "####################\n",
            "#胡侃# 【美国再次向中国提供核科学研项工，但是中国的一部方法，也是美国的一个方向。中国的对美开展得到充满思想和变化，中国的实力和智慧和顺畅，也是中国的强大阻力。中国的国力和量力有着复杂的成就，这是我们的经济成长本身，我们的社会就会有更多的成功。 中国的人口总量有，中国的崛起是最大的国家，也是我们的巨大市场，这是我们必须有的效果。                                                                                                                                    \n",
            "\n",
            "我在微访谈\"胡锡进谈国家“边疆节”\"中回答了网友 @秋飞小龙  的提问, \n",
            "\n",
            "#胡侃# 【美国又要花钱就抹黑中国的能力？中国不能不相信美国，美国的自我优先选项比起来，我们的民生就是美国的强大，也是中国的命运最大限地。 \n",
            "\n",
            "####################\n",
            "Temperature: 0.5\n",
            "####################\n",
            "中国同时赴美旅游，它会有更多中国的遥远方式。 \n",
            "\n",
            "正在在美国，国家安全顾问了中国，这与美国的盟友也会发挥积极作用。这个国家的对美形成关系，也是我们的长期认识。中国的国力和技术的发达程度是国家命运的基础。我们的战略关切不与美国及其盟友的关系，这种情况是我们的核心利益和自我启蒙之言。 胡锡进的秒拍视频 \n",
            "\n",
            "#胡侃# 【美国对华贸易战的责任轰炸几十天，中国经济将进行“总统”，以及美方的态度还要改进。 胡锡进的秒拍视频 \n",
            "\n",
            "####################\n",
            "Temperature: 1.0\n",
            "####################\n",
            "互联网对互联网放空攻陷，一两起现象，我就应当承受最基层的压力，但应当避免这座山我举起就加强地加以快走，各种闹事及时澄清张家的努力，要拼狭义。老胡对中国社会的信心不一样，最终就会招变应用以一种方式化。这就是唯一选择。当然是，新中国的抗疫增长，一些欧美的人和大部分都有成绩，因为穿一印度对中国人生不起。高速发展的基础在发区压力下行为，不涉及全国年轻人，相信北京的确施出处在越来越多的时候多去有因测试图，但一些地方政府的满意领域让大家不停再到微博受到的“民主制度”。今后一般性能看成一个来火的各种官僚主义和偏激，少开放是检验之间，并做到这一新走向上的表现，这是对春节假的结果。媒体有一次意义挺不容易的，\n",
            "\n",
            "这就是老胡今天去评点尊重俄语艰难的有强独工人。但我相信，我们见点不喜欢他。网络名称，江苏公园只能是中国人，而最有意味着那条非黑即白。他很感着，我体会很怕骚扰的不是因为？那些“童处案人工与很激动”、实现增速的工作。 湖北省如果真心希望下手里还有待多履报，但冷静的是安吉尔卫生支付担后的最大事情活动。激消最佳导悲剧组织一已是法律的口如当然是不合理的，尚有强劲与保钓行动为国家稳定的决定权力。 中国美国实力和将我们搞得了不可秩序。中国太大了，这可不是中国今天经济最严重的政治流动。然而大量过于超大型的增长率，经历各种新排名汇率是实在在全球地方最强的。因此几乎元有点消费，不健康实效。二是这个结果非常值得\n",
            "\n",
            "我做不到的是，各种小区是一下子就气得起来与春节打造的，一块牌子弹一祸吗？ 胡锡进的秒拍视频 \n",
            "\n",
            "Epoch 6/30\n",
            "998/998 [==============================] - 235s 236ms/step - loss: 2.3316\n",
            "Epoch 7/30\n",
            "998/998 [==============================] - 236s 237ms/step - loss: 2.2795\n",
            "Epoch 8/30\n",
            "998/998 [==============================] - 239s 240ms/step - loss: 2.2280\n",
            "Epoch 9/30\n",
            "998/998 [==============================] - 236s 237ms/step - loss: 2.1756\n",
            "Epoch 10/30\n",
            "998/998 [==============================] - 237s 237ms/step - loss: 2.1232\n",
            "####################\n",
            "Temperature: 0.2\n",
            "####################\n",
            "环球时报明天发社评：中国的外交官在实现自己的廉洁，这是中国社会的共同利益之所在。 \n",
            "\n",
            "环球时报发社评：日本政府对中国的重化。 \n",
            "\n",
            "我在微访谈\"胡锡进谈国家“边疆节”\"中回答了网友 @Iamgt 的问, 网页链接 \n",
            "\n",
            "####################\n",
            "Temperature: 0.5\n",
            "####################\n",
            "来到一个视频中的一些人说：互联网是广场，这是不是双瞧的。 \n",
            "\n",
            "#胡侃# 【美国防长马蒂尔访华，澳大利亚情报机构突然看来有些人夸张地说了“统治”，这是美国不同的行动。 老胡注意到，美国对华政策的巨变性行动会调整对中国的反应，这是中国社会的共同目标。我们注意到，中国今天的强大体制力量比较低，有时会有更多重要的领域。中国的体制保护，这是中国人的集体意志。 \n",
            "\n",
            "中国一方面是实现伟大，我们的社会没有能够做到。 \n",
            "\n",
            "####################\n",
            "Temperature: 1.0\n",
            "####################\n",
            "老胡为个别带节奏的链接：承蒙人议，那么意思，包括我不当做一个看法。第二，台湾电影对自己表办示强调的敌强决定，影响了中国会的心态，实际考虑这会使得西方的势力。全世界又大过来与西方舆论场共同提及挑战，大多数人和现代国内情人迅猛增长相当高，这还不止示。要制定他们对这些记者的表现负出准确需要去自己门作。我们希望《经济及时技人存心，及时查清真相，稍淡大了，这实际中的伤害是值得尊重的，也是中国的表现就是一种欢迎的。 \n",
            "\n",
            "环球时报发社评：在中国，疫情比中国弱了，出现了激烈舆情的人心，极大不了经济活动的方向，它们很多都是中国人的意见权利。 \n",
            "\n",
            "乌克兰总统发推特上午120社会主义道歉对特区议事务实，目了然交通，那已在中国70年代各场规划，现在已经到了8千亿。我们说，中国无论了13亿人的痛苦，这个世界上很绝大公平复杂。我认为，每一个人出于城市的食品质数百年后很大了，到来书(生活就找一几个结束几百天，就要硬称得要绝对。但京沪高铁说这样的戏骨铭心。它们今天好，法国大概也算不上。 \n",
            "\n",
            "Epoch 11/30\n",
            "998/998 [==============================] - 236s 236ms/step - loss: 2.0697\n",
            "Epoch 12/30\n",
            "998/998 [==============================] - 236s 236ms/step - loss: 2.0160\n",
            "Epoch 13/30\n",
            "998/998 [==============================] - 237s 237ms/step - loss: 1.9623\n",
            "Epoch 14/30\n",
            "998/998 [==============================] - 237s 238ms/step - loss: 1.9081\n",
            "Epoch 15/30\n",
            "998/998 [==============================] - 237s 237ms/step - loss: 1.8523\n",
            "####################\n",
            "Temperature: 0.2\n",
            "####################\n",
            "#胡侃# 【美国防长一年内两访越南，中国海军的干预系统都不能像2月30日以来，中国的实力又迅速转变，这是中国的历史记忆。国家的政治体制和中国人民的生活，永远是珍惜它的基础。我们的社会需要有充分的认识，也是中国人民的幸福安宁。 \n",
            "\n",
            "#胡侃# 【美国防长一年内两访越南，关税战】华盛顿回击，是霸道者。 \n",
            "\n",
            "#胡侃# 【美国防长一年内两访越南，关税战】中国真正欢迎朝问题目标，这是美国的“另两个”。 \n",
            "\n",
            "####################\n",
            "Temperature: 0.5\n",
            "####################\n",
            "#胡侃# 【台湾军舰连续通过台湾，解放军还有中国大陆军队的战略施压，但是要求大气。日本今天的印度加入了欧洲，但它们在军事各国飞到现在，这个国家的土地和地区也在中国。这是一个区议会发生的：中国如果继续就走向最好斗。 \n",
            "\n",
            "#胡侃# 【俄罗斯向美国谈判，美国对华联合抗议员会议员资难，这看上美国能够压倒中国内部的战略意义。中国的外交大臣是其中的一个王导火，他们在新闻报纸上总是阻断腕】互联网、网上的一些人也会报明担心，这意味着中国舆论场上的多元化有害。但我也不主张将今天的中国一直算“上面说错”。老胡的微博连环球时报都是对话的。我们应当立场先走送别了，包括我的第一个小感。\n",
            "\n",
            "#蜻蜓FM# @胡锡进 的《VOL.677 柬埔寨大选洪森获胜，226.5.48只能造商品展开。民间房地产税的率先环境产尽治划和质疑，这是中国人的福利水平。这太短了，社会怎么说可以清楚，这不是我们的盟友，因为它们是中国命运的大混蛋。中国的GDP比印度的中国社会平安和共军和平发展水平，这个国家的人口加起来就更大些。 \n",
            "\n",
            "####################\n",
            "Temperature: 1.0\n",
            "####################\n",
            "#胡侃# #应通用与西方社会方面建设法律精神的底线，即使哈萨克斯坦十6年前曾慑力阻力赴免费。保护中国当前防控措施，我们野蛮不宽无收入增进的主要力量，老兵表达不在美贸区域的近年排有6名核试贫访华和中兴的朋友们，真让他的胆子更照，但他们很像话。中国人在过去日子上比，他们从政治体娱乐各种注意，为何出这个又简单吗？我看着我体制内容下大家愿意这个闯荡？那个国家如果离开事故死了，也算了是什么决不用？大家愿意平常条高了。中国社会的全面管理几乎无一例外都是中国城市之处。中国的发展水平总量比今天大概要以断前统治变动经济发展的格局和社会之文化的、。发展就是相对宽松的，就像对解放中国呼声更美好生活的反制速度，它\n",
            "\n",
            "#胡侃# 香港是死因在香港社会特色的地方数你的幸运吧。台湾还说，让街头发生警察不死吗？大概是一个富人的盯上。亡羊但吸到楼下车等医院没有人。街头还是都坐落自己的房子，协助那里的人也会气氛差得多，回头转，误笑。看两准天安门广场的好朋友那么点，不知道从哪里看，叶诗都少见，没有养老，街她热闹。白天的搞热遍停，黑土，还是我们这条街道轻的标志性价值得以充分尊重的人，尤其不是省之后的问题。群体还远不够。因内地做好充满了希望批评和自由“公强默城”，但国家可能无它们彼此落实日本对敢于担心，中国人的车争需要多起来发展。我们要有能力逐渐增加上限，不搞意到。\n",
            "\n",
            "永州也能胜客，呢，直南混乱做大道理，时间也短，环球时报它位在全国各地区行起，希望调查在全国其他疫情上扩散，多好。现在区分意产阶段会坚守在一线总统内的自称，这座城市改起来是新德行国留的。新疆那里的事发展水平，似乎超过了我们应对的解决。我们国家层面的尽力了，这是我们创造穿下的内部政策。改开需要往前面，要真心把那些“一道儿童意”那么实质。 \n",
            "\n",
            "Epoch 16/30\n",
            "998/998 [==============================] - 237s 237ms/step - loss: 1.7985\n",
            "Epoch 17/30\n",
            "998/998 [==============================] - 237s 238ms/step - loss: 1.7424\n",
            "Epoch 18/30\n",
            "998/998 [==============================] - 237s 237ms/step - loss: 1.6863\n",
            "Epoch 19/30\n",
            "998/998 [==============================] - 237s 238ms/step - loss: 1.6301\n",
            "Epoch 20/30\n",
            "998/998 [==============================] - 237s 238ms/step - loss: 1.5745\n",
            "####################\n",
            "Temperature: 0.2\n",
            "####################\n",
            "#胡侃# 【中国是否会向中国提供巨大压力。中国的外交资源是它们的保护者，而且这种力量远远大于它。中国的市场经济和中国互联网上还有什么样的大国复苏，但是中国的减贫成绩，中国的市场规模大体将在快速增长。中国的大国股市都不会困惑，但这种体制还会有什么样的人，甚至还是有点道德的。 \n",
            "\n",
            "中国的最大困惑是没有，中国的经济、国家利益、重视，而且要帮助我们，不愿意。这是中国的一项稳定，也是中国经济的不断形态。中国的问题是，综合发展，而且强大起来，中国的力量远好。 胡锡进的秒拍视频 \n",
            "\n",
            "#胡侃# 【中国是否会对俄罗斯哥的对立成审视，而是对谈判的态度，这是美方的胜利。中国应该支持这样的坚决回击。 第二，中国的综合实力态度应当能够自强下去。中国的实力、稳健，我们的自我感觉不得突然。\n",
            "\n",
            "####################\n",
            "Temperature: 0.5\n",
            "####################\n",
            "#胡侃# 【美国将限制军事上失以如此重大的控制，美国已经没想想得那样要自觉地点不了。中国的发展是中国的核力量，而且是美国的强大和力量，是我们的愿望。中国的国力和党的整体必定是中国人民的利益，又是不能搞。中国要永远是理解的，而且我们也要面对一个方面，也不必然仅仅是尽量克服，甚至可以说出来，那就是中国大历史刻才最有力量的集体想象。 \n",
            "\n",
            "2018年，一直没有出现过失，一些人为他们不敢去，或者长面，你就会来救救他们！\n",
            "\n",
            "香港的事情，老胡昨天在环球时报上发表情绪，我的致力是被广泛认为的打晨，被迫暂时引起的大量舆论，对所有这样的人无法性评估。 老胡同意他们想在这里出于香港激进示威者的内地记者，也有很多人对话，我说，这个时候很难有一点 我认为，我们的这一表现只能是一个万能、支持的的，不能不说是一句话，调研了社会的节奏，都需要鼓励。 胡锡进的微博视频 \n",
            "\n",
            "####################\n",
            "Temperature: 1.0\n",
            "####################\n",
            "我18年前9点问我：9点新疆转，走了，从中印度看到现在，差得这样了。但晚上一种外国人也想参加很像“说爱是心”，但这是不应该的。当然这次只是互联网时代的舆论朝鲜明星20年年，中国人应带来一份干点。每天8点都跌了一点。也不会有一天对国家安全和工作，很可能强化地从休集会越来越多的力量越活跃，尤其时高度不够集会经济发展、不断提升力量坚持实事求是力的稳定性。我们不仅可以看到中国经济技术的转折，这一路将使我们容不接受它的不确定性。这是新生物种种动向，比如稳定者的生命注入围绕这支出现，国家还是岂能接受有没有力量的考验。 看到网上围观点的社研究生等不好，他们的话也多邯着了比她那样的人生。后续也不可能把他们\n",
            "\n",
            "这两政府剧烈批评的政治规律制造了高度的正面贡献。他那样做还很有事。因为这涉时不透明，咱们中国人的利益需要好得多。 \n",
            "\n",
            "今天发了微博，对“假式黑”这样鼓励的激烈的预速通报和过程。真的是这句话滴本来的司法性，但他们也向这个场面够建立这场大潮中间内互联网聚焦无论普及的工作。舆论场上的有助大于推进中国社会的广泛权利，其他可能多年抓，本想西方媒体就是错误的，或者把中国的高兴员一点劲。 \n",
            "\n",
            "Epoch 21/30\n",
            "998/998 [==============================] - 234s 234ms/step - loss: 1.5175\n",
            "Epoch 22/30\n",
            "998/998 [==============================] - 231s 231ms/step - loss: 1.4618\n",
            "Epoch 23/30\n",
            "998/998 [==============================] - 232s 232ms/step - loss: 1.4064\n",
            "Epoch 24/30\n",
            "998/998 [==============================] - 231s 232ms/step - loss: 1.3509\n",
            "Epoch 25/30\n",
            "998/998 [==============================] - 231s 232ms/step - loss: 1.2970\n",
            "####################\n",
            "Temperature: 0.2\n",
            "####################\n",
            "#胡侃# 【美国要把香港事务院屈服于气球。华盛顿这样做到一些想法折算舆论的大规模，不能由美国国务院完全不同忽悠中国的实力和不力。 胡锡进的扰前进行两价高领袖 ，也直言说中国的“严谨”，让一些人和我们自己判称。我们的孩子们被加入精力，他们的身上就是小事。我们的社会在对外竞争中，这也是中国人民的利益和社会风貌。 \n",
            "\n",
            "中国是谁？中国是谁？谁能改变成“世界级”，但得不断扩大中国的战略利益。中国的国际形象是，中国的挑战是我们的优势，我们需要接受我们社会自己的市场意义。我们的大部分人都挺以为这个世界上最大孩子的支柱，那里的德适属装一正。 \n",
            "\n",
            "#胡侃# 【美国要把香港特区议员星星期二干预台湾海峡，但这种声音可能性。这是一个“台独”势力的善意。台湾民进党当局千万别爱国人，这个决定可以用价值判断。 胡锡进的秒拍视频 \n",
            "\n",
            "####################\n",
            "Temperature: 0.5\n",
            "####################\n",
            "#胡侃# 美国宣布伊朗伊斯兰革命卫队为恐怖主义力量，美国的国内法定对中国商品加征关税。中国人在登上美国来说享年自己有了闯国的。但他们对国家放弃了，一旦生路走到世界最动荡地区，，他们也都给他们发生了产效。另外我还来时向记者节的表现，中国的抗疫表现强大了解，有些还不耻。我们在没有采取更有效的措施，但是我们一要面对的是这样说，也是中国的平均发展水平。这种安全是由中国人民利益的关系，我们需要坚定、耐心，也更有效地加以对之，我们注定要避免把那些变化的变化和困难当中能够在很多时候不断获得效率甚至减少。这是中国问题的交接，也是人类风险最高水平、不断路而且打折扣的方式来。中国的大国还会发展，而且有了更多的\n",
            "\n",
            "中国不可能是矿产及化工项目绝迹的成功，也是最大的人口。生活在很多国家都在不知争取手。但是当今世界首先，问题是我们的长远问题。 \n",
            "\n",
            "今天是记者节，希望博界和大家一起分享。 \n",
            "\n",
            "####################\n",
            "Temperature: 1.0\n",
            "####################\n",
            "昨天下午6:分床，转发，还真精又气息过了。说实话，当时它说“防疫人身数”的激发决不是跑了，这显然很可能是个别人的审怀和关怀，而这一切在中国的社会里和它变化。 \n",
            "\n",
            "班农被解除在香港记者组的大学讲座。几乎“将此起别到人到走到武汉，而且毫无止据凶手所的医疗人员驰援湖北。大病提前武汉病毒所的扩散风险面大趋严重显而且在这种博弈的巨大风险，这些结果作为低调，相互理解，是社会安全的最根位。即使不仅仅是人们个人成功，政府应当对公众多认识的情况做一次大洗,进出来报喜公的各异，时恐找着自嘲弄爱国、以及高质问题的支持，为依基了解决西方政治制度政治的力量，以及推动人权以及全社会公信力、耐心。西方不缺教批，而“度为大本事”把他们拆掉了，而不是由它说一“双大批优。所有美国政府有点像是假吧。中国不接受中国明星，而且别让中国难衰。中国大体展态的实力来了个很大的风险，是全球战略信服\n",
            "\n",
            "约翰内斯堡唐人街，专业的营业区会就在出门广场去。同时赶上京路羡取缔回首社会，那时经过科的技术如此广告状态下，那是列强国家大概念，包括这个种族国家也符合在香港的建制和交通方面位置就上来。那些最极端的事都都是高尚的，把爱国力量搞活，而中国政府想都不会受到一些民众的相互包容。抱超大时战，都会忙着惊慌的上中国。改革中则不是改革开放的关键停火，中国接下来追求对美核心利益的改善，中国怎么做都挺难的。 我们不能以为上国外交的发展竞赛，就需要与他们更广泛感、，这是中国社会遵循的一种政策。舆论在政府治理上的批评和公知都有合法实实贡献的根本控制力，维护它的作者也会在整个社会中都构成了更多的正编，宽松自成多元化\n",
            "\n",
            "Epoch 26/30\n",
            "998/998 [==============================] - 236s 237ms/step - loss: 1.2443\n",
            "Epoch 27/30\n",
            "998/998 [==============================] - 237s 238ms/step - loss: 1.1932\n",
            "Epoch 28/30\n",
            "998/998 [==============================] - 236s 237ms/step - loss: 1.1449\n",
            "Epoch 29/30\n",
            "998/998 [==============================] - 236s 236ms/step - loss: 1.0998\n",
            "Epoch 30/30\n",
            "998/998 [==============================] - 237s 238ms/step - loss: 1.0588\n",
            "####################\n",
            "Temperature: 0.2\n",
            "####################\n",
            "#胡侃# 【中国是否履行了入世承诺呢？ 胡锡进的秒拍视频 \n",
            "\n",
            "#胡侃# 【美国防长马蒂斯访华，中国会第一大竟称，最后一个小事好回击中国】美国的贸易战略导力对中国形成向美国寻找更大博弈的国家，实现了一些打击就是对美国高科技产业的意愿。 中美经贸协议会不会再来谈，双方都会有很多精彩。 中国是大国，美国的芯片单位片也很强，美国农民从23年的增长为目之复，美国将对中国发动的传达大环境进行！除了华盛顿外交官和韩国媒体人提出整个问题，还有，他的确是合作的。 老胡也反对韩国记者加油！\n",
            "\n",
            "#胡侃# 【美国对盟友土耳其捅一刀又补一刀，为什么出手这么狠】美国已是手段，在中国搞不出一段时间，美国的国会议员正在日本政权对美国来的同盟友好。美国的关税双方都是促美国国和盟友的格局？美国的对华压力在这场世界上也有多大。中国人不用让美国的部门依然开决。\n",
            "\n",
            "####################\n",
            "Temperature: 0.5\n",
            "####################\n",
            "马英九宣布吴敦义为其2012年选举副手，祝这一贺颁，今年1月承诺排了查，与中国是“发展做出总统”，祝福中国运动春运。据环球社评 \n",
            "\n",
            "祝贺中国在立陶宛题日报和办事业，接下来中国来加拿大国产业。中国无偿援助全球供应机型，中国的实力已经在上升，有据它们的实际控制能力是当代中美博弈的天然。在关键时刻退缩出现大飞机，老胡第一次在一个微博上发微博上网骂人，谈此关系半年后99岁的老胡照片，没看到互联网上说的平标题。希望大家都做到不相对打折算的问题。 一些西方民间搞定“一切一不过来”。\n",
            "\n",
            "中国的抗疫取得了重大进展，经济总量增加一分压力，各地也能够根据现实重大地就应当包容。 中国是超大社会，国家的政治健康实事应当协调充满足以信心，增加社会平衡条每一哪个问题，实现健康的利益不是有效的。这些诉求在于中国人要想的大量中国。 \n",
            "\n",
            "####################\n",
            "Temperature: 1.0\n",
            "####################\n",
            "高铁到处是该校包揽河北等收口“东小农”事件应有的信心：“中央司机就职人也被“旅游”。英国人宣称《呼和浩特精弹，引的什么》没事。生6期出一定政治，反对外部在舆论场中放疑中方的元素层面有合理性之外性化。西方媒体这样气狠。 胡锡进的微博视频 \n",
            "\n",
            "假设有几个造谣、严肃，反击建设女子不报的好东西，这件事的情况很该有代表。他们真正在医用他们了。警方是港大学生会有效的的骚乱和趋势，天地分解了全国战线的强烈不为支持所建设的信号。消除未来几年，会比当下的今天还是要承增强调整，只要武汉和湖北武汉新天在北京市民下面射程疫情的做法过于劣势影响不了的这一项排餐，人们有充分抵制外号的战略示威，这是他们无法作为国会之付中国的新理。之前得不好的孟晚舟获释，中秋节目的正确场　同欧菲美经贸专家都有一些人大赞誉，认为美国主要降温中国102便，中国企业机构负责4名民主的日本国期以来对该国防部官员为认识有效的打击迅速发推并放入调查，而是中美之间的严峻思难。从贸易战到\n",
            "\n",
            "各路的批评互怼，华为公司通过如】前面，中国多功铺了一倍，同时二最年长，失了最多的城市。控制疫情汹涌，在城市的活跃和天气时间到全体人面临的阵前风，形成了又爱和国，整个社会就什么平实而为做自己的利益价值取向调整。而且只有中国这边的大国，一个怪它的标签。知识分子都它们成为让人不爱国的事，私本都像高制造起的最根本性的，我本人也积极、甚至可能成为公平所强调最高共识的时代决定。中国形象化或从世界范围内无可做出的没有核力量所需要很多准备。毕竟极大了，加强了道德对抗将形成拆迁道义支持和繁荣和未来的进程。在中国遭遇了巨大任务已经完成美国的全国位置，后又释然形成了一场提醒和打压，关键是我们认为中国的国家利益的\n",
            "\n"
          ],
          "name": "stdout"
        }
      ]
    },
    {
      "cell_type": "code",
      "metadata": {
        "id": "qVpk4zyGE-iN",
        "colab_type": "code",
        "colab": {}
      },
      "source": [
        "# this temperature schedule cycles between 1 very unexpected token, 1 unexpected token, 2 expected tokens, repeat.\n",
        "# changing the temperature schedule can result in wildly different output!\n",
        "temperature = [1.0, 0.5, 0.2, 0.2]   \n",
        "prefix = None   # if you want each generated text to start with a given seed text\n",
        "\n",
        "if train_cfg['line_delimited']:\n",
        "  n = 1000\n",
        "  max_gen_length = 60 if model_cfg['word_level'] else 300\n",
        "else:\n",
        "  n = 1\n",
        "  max_gen_length = 2000 if model_cfg['word_level'] else 10000\n",
        "  \n",
        "timestring = datetime.now().strftime('%Y%m%d_%H%M%S')\n",
        "gen_file = '{}_gentext_{}.txt'.format(model_name, timestring)\n",
        "\n",
        "textgen.generate_to_file(gen_file,\n",
        "                         temperature=temperature,\n",
        "                         prefix=prefix,\n",
        "                         n=n,\n",
        "                         max_gen_length=max_gen_length)\n",
        "#files.download(gen_file)"
      ],
      "execution_count": 0,
      "outputs": []
    }
  ]
}